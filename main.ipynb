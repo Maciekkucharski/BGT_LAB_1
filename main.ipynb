{
 "cells": [
  {
   "cell_type": "code",
   "execution_count": 1,
   "metadata": {
    "collapsed": true
   },
   "outputs": [
    {
     "name": "stdout",
     "output_type": "stream",
     "text": [
      "                                  title  rank        date  \\\n",
      "0               Chantaje (feat. Maluma)     1  2017-01-01   \n",
      "1           Vente Pa' Ca (feat. Maluma)     2  2017-01-01   \n",
      "2            Reggaetón Lento (Bailemos)     3  2017-01-01   \n",
      "3                                Safari     4  2017-01-01   \n",
      "4                           Shaky Shaky     5  2017-01-01   \n",
      "...                                 ...   ...         ...   \n",
      "26173509                            BYE    46  2021-07-31   \n",
      "26173510                        Pillars    47  2021-07-31   \n",
      "26173511                   Gái Độc Thân    48  2021-07-31   \n",
      "26173512  Renegade (feat. Taylor Swift)    49  2021-07-31   \n",
      "26173513                Letter to Jarad    50  2021-07-31   \n",
      "\n",
      "                                         artist  \\\n",
      "0                                       Shakira   \n",
      "1                                  Ricky Martin   \n",
      "2                                          CNCO   \n",
      "3         J Balvin, Pharrell Williams, BIA, Sky   \n",
      "4                                  Daddy Yankee   \n",
      "...                                         ...   \n",
      "26173509                                  Jaden   \n",
      "26173510                                 My Anh   \n",
      "26173511                                  Tlinh   \n",
      "26173512                        Big Red Machine   \n",
      "26173513              LRN Slime, Shiloh Dynasty   \n",
      "\n",
      "                                                        url     region  \\\n",
      "0         https://open.spotify.com/track/6mICuAdrwEjh6Y6...  Argentina   \n",
      "1         https://open.spotify.com/track/7DM4BPaS7uofFul...  Argentina   \n",
      "2         https://open.spotify.com/track/3AEZUABDXNtecAO...  Argentina   \n",
      "3         https://open.spotify.com/track/6rQSrBHf7HlZjtc...  Argentina   \n",
      "4         https://open.spotify.com/track/58IL315gMSTD37D...  Argentina   \n",
      "...                                                     ...        ...   \n",
      "26173509  https://open.spotify.com/track/3OUyyDN7EZrL7i0...    Vietnam   \n",
      "26173510  https://open.spotify.com/track/6eky30oFiQbHUAT...    Vietnam   \n",
      "26173511  https://open.spotify.com/track/2klsSb2iTfgDh95...    Vietnam   \n",
      "26173512  https://open.spotify.com/track/1aU1wpYBSpP0M6I...    Vietnam   \n",
      "26173513  https://open.spotify.com/track/508QhA2SncMbh5C...    Vietnam   \n",
      "\n",
      "            chart          trend   streams  \n",
      "0          top200  SAME_POSITION  253019.0  \n",
      "1          top200        MOVE_UP  223988.0  \n",
      "2          top200      MOVE_DOWN  210943.0  \n",
      "3          top200  SAME_POSITION  173865.0  \n",
      "4          top200        MOVE_UP  153956.0  \n",
      "...           ...            ...       ...  \n",
      "26173509  viral50        MOVE_UP       NaN  \n",
      "26173510  viral50      NEW_ENTRY       NaN  \n",
      "26173511  viral50      MOVE_DOWN       NaN  \n",
      "26173512  viral50      MOVE_DOWN       NaN  \n",
      "26173513  viral50      MOVE_DOWN       NaN  \n",
      "\n",
      "[26173514 rows x 9 columns]\n"
     ]
    }
   ],
   "source": [
    "import pandas\n",
    "from matplotlib import pyplot as plt\n",
    "df = pandas.read_csv(\"charts.csv\")\n",
    "\n"
   ]
  },
  {
   "cell_type": "code",
   "execution_count": 2,
   "outputs": [
    {
     "name": "stdout",
     "output_type": "stream",
     "text": [
      "<class 'pandas.core.frame.DataFrame'>\n",
      "RangeIndex: 26173514 entries, 0 to 26173513\n",
      "Data columns (total 9 columns):\n",
      " #   Column   Dtype  \n",
      "---  ------   -----  \n",
      " 0   title    object \n",
      " 1   rank     int64  \n",
      " 2   date     object \n",
      " 3   artist   object \n",
      " 4   url      object \n",
      " 5   region   object \n",
      " 6   chart    object \n",
      " 7   trend    object \n",
      " 8   streams  float64\n",
      "dtypes: float64(1), int64(1), object(7)\n",
      "memory usage: 1.8+ GB\n"
     ]
    }
   ],
   "source": [
    "titles = df.groupby('title').count()\n",
    "max_rank = titles[\"rank\"].max()\n",
    "min_rank = titles[\"rank\"].min()\n",
    "print(f\"{max_rank}\\n\")\n",
    "print(min_rank.min())\n"
   ],
   "metadata": {
    "collapsed": false,
    "pycharm": {
     "name": "#%%\n"
    }
   }
  },
  {
   "cell_type": "code",
   "execution_count": 16,
   "outputs": [
    {
     "name": "stdout",
     "output_type": "stream",
     "text": [
      "68965\n",
      "\n",
      "1\n"
     ]
    }
   ],
   "source": [
    "print(f\"Most popular ->\\n{titles[titles['rank'] == max_rank]}\\n\\n\")\n",
    "print(f\"Lest popular ->\\n{titles[titles['rank'] == min_rank]}\\n\\n\")"
   ],
   "metadata": {
    "collapsed": false,
    "pycharm": {
     "name": "#%%\n"
    }
   }
  },
  {
   "cell_type": "code",
   "execution_count": 31,
   "outputs": [
    {
     "ename": "KeyError",
     "evalue": "'titles'",
     "output_type": "error",
     "traceback": [
      "\u001B[1;31m---------------------------------------------------------------------------\u001B[0m",
      "\u001B[1;31mKeyError\u001B[0m                                  Traceback (most recent call last)",
      "File \u001B[1;32m~\\AppData\\Local\\Packages\\PythonSoftwareFoundation.Python.3.9_qbz5n2kfra8p0\\LocalCache\\local-packages\\Python39\\site-packages\\pandas\\core\\indexes\\base.py:3361\u001B[0m, in \u001B[0;36mIndex.get_loc\u001B[1;34m(self, key, method, tolerance)\u001B[0m\n\u001B[0;32m   3360\u001B[0m \u001B[38;5;28;01mtry\u001B[39;00m:\n\u001B[1;32m-> 3361\u001B[0m     \u001B[38;5;28;01mreturn\u001B[39;00m \u001B[38;5;28;43mself\u001B[39;49m\u001B[38;5;241;43m.\u001B[39;49m\u001B[43m_engine\u001B[49m\u001B[38;5;241;43m.\u001B[39;49m\u001B[43mget_loc\u001B[49m\u001B[43m(\u001B[49m\u001B[43mcasted_key\u001B[49m\u001B[43m)\u001B[49m\n\u001B[0;32m   3362\u001B[0m \u001B[38;5;28;01mexcept\u001B[39;00m \u001B[38;5;167;01mKeyError\u001B[39;00m \u001B[38;5;28;01mas\u001B[39;00m err:\n",
      "File \u001B[1;32m~\\AppData\\Local\\Packages\\PythonSoftwareFoundation.Python.3.9_qbz5n2kfra8p0\\LocalCache\\local-packages\\Python39\\site-packages\\pandas\\_libs\\index.pyx:76\u001B[0m, in \u001B[0;36mpandas._libs.index.IndexEngine.get_loc\u001B[1;34m()\u001B[0m\n",
      "File \u001B[1;32m~\\AppData\\Local\\Packages\\PythonSoftwareFoundation.Python.3.9_qbz5n2kfra8p0\\LocalCache\\local-packages\\Python39\\site-packages\\pandas\\_libs\\index.pyx:108\u001B[0m, in \u001B[0;36mpandas._libs.index.IndexEngine.get_loc\u001B[1;34m()\u001B[0m\n",
      "File \u001B[1;32mpandas\\_libs\\hashtable_class_helper.pxi:5198\u001B[0m, in \u001B[0;36mpandas._libs.hashtable.PyObjectHashTable.get_item\u001B[1;34m()\u001B[0m\n",
      "File \u001B[1;32mpandas\\_libs\\hashtable_class_helper.pxi:5206\u001B[0m, in \u001B[0;36mpandas._libs.hashtable.PyObjectHashTable.get_item\u001B[1;34m()\u001B[0m\n",
      "\u001B[1;31mKeyError\u001B[0m: 'titles'",
      "\nThe above exception was the direct cause of the following exception:\n",
      "\u001B[1;31mKeyError\u001B[0m                                  Traceback (most recent call last)",
      "Input \u001B[1;32mIn [31]\u001B[0m, in \u001B[0;36m<module>\u001B[1;34m\u001B[0m\n\u001B[1;32m----> 1\u001B[0m \u001B[38;5;28mprint\u001B[39m(\u001B[38;5;124mf\u001B[39m\u001B[38;5;124m\"\u001B[39m\u001B[38;5;124mMost popular ->\u001B[39m\u001B[38;5;130;01m\\n\u001B[39;00m\u001B[38;5;132;01m{\u001B[39;00mtitles[titles[\u001B[38;5;124m'\u001B[39m\u001B[38;5;124mrank\u001B[39m\u001B[38;5;124m'\u001B[39m] \u001B[38;5;241m==\u001B[39m max_rank][\u001B[38;5;124m'\u001B[39m\u001B[38;5;124mtitles\u001B[39m\u001B[38;5;124m'\u001B[39m]\u001B[38;5;132;01m}\u001B[39;00m\u001B[38;5;130;01m\\n\u001B[39;00m\u001B[38;5;130;01m\\n\u001B[39;00m\u001B[38;5;124m\"\u001B[39m)\n\u001B[0;32m      2\u001B[0m \u001B[38;5;28mprint\u001B[39m(\u001B[38;5;124mf\u001B[39m\u001B[38;5;124m\"\u001B[39m\u001B[38;5;124mLest popular ->\u001B[39m\u001B[38;5;130;01m\\n\u001B[39;00m\u001B[38;5;132;01m{\u001B[39;00mtitles[titles[\u001B[38;5;124m'\u001B[39m\u001B[38;5;124mrank\u001B[39m\u001B[38;5;124m'\u001B[39m] \u001B[38;5;241m==\u001B[39m min_rank]\u001B[38;5;132;01m}\u001B[39;00m\u001B[38;5;130;01m\\n\u001B[39;00m\u001B[38;5;130;01m\\n\u001B[39;00m\u001B[38;5;124m\"\u001B[39m)\n",
      "File \u001B[1;32m~\\AppData\\Local\\Packages\\PythonSoftwareFoundation.Python.3.9_qbz5n2kfra8p0\\LocalCache\\local-packages\\Python39\\site-packages\\pandas\\core\\frame.py:3458\u001B[0m, in \u001B[0;36mDataFrame.__getitem__\u001B[1;34m(self, key)\u001B[0m\n\u001B[0;32m   3456\u001B[0m \u001B[38;5;28;01mif\u001B[39;00m \u001B[38;5;28mself\u001B[39m\u001B[38;5;241m.\u001B[39mcolumns\u001B[38;5;241m.\u001B[39mnlevels \u001B[38;5;241m>\u001B[39m \u001B[38;5;241m1\u001B[39m:\n\u001B[0;32m   3457\u001B[0m     \u001B[38;5;28;01mreturn\u001B[39;00m \u001B[38;5;28mself\u001B[39m\u001B[38;5;241m.\u001B[39m_getitem_multilevel(key)\n\u001B[1;32m-> 3458\u001B[0m indexer \u001B[38;5;241m=\u001B[39m \u001B[38;5;28;43mself\u001B[39;49m\u001B[38;5;241;43m.\u001B[39;49m\u001B[43mcolumns\u001B[49m\u001B[38;5;241;43m.\u001B[39;49m\u001B[43mget_loc\u001B[49m\u001B[43m(\u001B[49m\u001B[43mkey\u001B[49m\u001B[43m)\u001B[49m\n\u001B[0;32m   3459\u001B[0m \u001B[38;5;28;01mif\u001B[39;00m is_integer(indexer):\n\u001B[0;32m   3460\u001B[0m     indexer \u001B[38;5;241m=\u001B[39m [indexer]\n",
      "File \u001B[1;32m~\\AppData\\Local\\Packages\\PythonSoftwareFoundation.Python.3.9_qbz5n2kfra8p0\\LocalCache\\local-packages\\Python39\\site-packages\\pandas\\core\\indexes\\base.py:3363\u001B[0m, in \u001B[0;36mIndex.get_loc\u001B[1;34m(self, key, method, tolerance)\u001B[0m\n\u001B[0;32m   3361\u001B[0m         \u001B[38;5;28;01mreturn\u001B[39;00m \u001B[38;5;28mself\u001B[39m\u001B[38;5;241m.\u001B[39m_engine\u001B[38;5;241m.\u001B[39mget_loc(casted_key)\n\u001B[0;32m   3362\u001B[0m     \u001B[38;5;28;01mexcept\u001B[39;00m \u001B[38;5;167;01mKeyError\u001B[39;00m \u001B[38;5;28;01mas\u001B[39;00m err:\n\u001B[1;32m-> 3363\u001B[0m         \u001B[38;5;28;01mraise\u001B[39;00m \u001B[38;5;167;01mKeyError\u001B[39;00m(key) \u001B[38;5;28;01mfrom\u001B[39;00m \u001B[38;5;21;01merr\u001B[39;00m\n\u001B[0;32m   3365\u001B[0m \u001B[38;5;28;01mif\u001B[39;00m is_scalar(key) \u001B[38;5;129;01mand\u001B[39;00m isna(key) \u001B[38;5;129;01mand\u001B[39;00m \u001B[38;5;129;01mnot\u001B[39;00m \u001B[38;5;28mself\u001B[39m\u001B[38;5;241m.\u001B[39mhasnans:\n\u001B[0;32m   3366\u001B[0m     \u001B[38;5;28;01mraise\u001B[39;00m \u001B[38;5;167;01mKeyError\u001B[39;00m(key)\n",
      "\u001B[1;31mKeyError\u001B[0m: 'titles'"
     ]
    }
   ],
   "source": [
    "print(df.groupby('artist').max('rank'))\n",
    "\n",
    "\n",
    "test = df[df['artist'] == \"System Of A Down\"]\n",
    "test.groupby('date').min('rank')[['rank']].plot()"
   ],
   "metadata": {
    "collapsed": false,
    "pycharm": {
     "name": "#%%\n"
    }
   }
  },
  {
   "cell_type": "code",
   "execution_count": 47,
   "outputs": [
    {
     "name": "stdout",
     "output_type": "stream",
     "text": [
      "                        rank  streams\n",
      "artist                               \n",
      "!!!                       36      NaN\n",
      "!!!, Lea Lea              47      NaN\n",
      "\"Elena Of Avalor\" Cast    50      NaN\n",
      "\"Weird Al\" Yankovic       47      NaN\n",
      "\"聲夢傳奇\"學員                  50      NaN\n",
      "...                      ...      ...\n",
      "이시강                       40      NaN\n",
      "이아람                      200   2060.0\n",
      "지선                        50      NaN\n",
      "하숙자                       68   2671.0\n",
      "Ｍ, 兩千 2ØØØ, RedcolorG     48      NaN\n",
      "\n",
      "[96156 rows x 2 columns]\n"
     ]
    },
    {
     "data": {
      "text/plain": "<AxesSubplot:xlabel='date'>"
     },
     "execution_count": 47,
     "metadata": {},
     "output_type": "execute_result"
    },
    {
     "data": {
      "text/plain": "<Figure size 432x288 with 1 Axes>",
      "image/png": "[encoded data removed]"
     },
     "metadata": {
      "needs_background": "light"
     },
     "output_type": "display_data"
    }
   ],
   "source": [
    "import csv\n",
    "with open(\"charts.csv\", encoding=\"utf8\") as f:\n",
    "    csvreader = csv.reader(f)\n",
    "    title_occurrences = dict()\n",
    "    for row in csvreader:\n",
    "        if (row[0] not in title_occurrences) and not \"title\":\n",
    "            title_occurrences[row[0]] = 1\n",
    "        else:\n",
    "            title_occurrences[row[0]] += 1\n",
    "    max_value = 0\n",
    "    max_key, min_key = ('','')\n",
    "    for key, item in title_occurrences.items():\n",
    "            if item > max_value:\n",
    "                max_key = key\n",
    "                max_value = title_occurrences[max_key]\n",
    "    min_value = max_value\n",
    "    for key, item in title_occurrences.items():\n",
    "            if item < min_value:\n",
    "                min_key = key\n",
    "                min_value = title_occurrences[min_key]\n",
    "    print(f\"lowest amount if occ -> {min_key} -> {min_value}\\n\")\n",
    "    print(f\"highest amount if occ -> {max_key} -> {max_value}\\n\")\n",
    "\n"
   ],
   "metadata": {
    "collapsed": false,
    "pycharm": {
     "name": "#%%\n"
    }
   }
  }
 ],
 "metadata": {
  "kernelspec": {
   "display_name": "Python 3",
   "language": "python",
   "name": "python3"
  },
  "language_info": {
   "codemirror_mode": {
    "name": "ipython",
    "version": 2
   },
   "file_extension": ".py",
   "mimetype": "text/x-python",
   "name": "python",
   "nbconvert_exporter": "python",
   "pygments_lexer": "ipython2",
   "version": "2.7.6"
  }
 },
 "nbformat": 4,
 "nbformat_minor": 0
}